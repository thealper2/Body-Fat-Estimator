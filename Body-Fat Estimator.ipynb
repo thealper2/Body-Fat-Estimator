{
 "cells": [
  {
   "cell_type": "code",
   "execution_count": 48,
   "id": "196829b4",
   "metadata": {},
   "outputs": [],
   "source": [
    "import pandas as pd\n",
    "import numpy as np\n",
    "import matplotlib.pyplot as plt\n",
    "import seaborn as sns\n",
    "import pickle\n",
    "from sklearn.model_selection import train_test_split, GridSearchCV\n",
    "from sklearn.tree import DecisionTreeRegressor\n",
    "from sklearn.ensemble import RandomForestRegressor\n",
    "from sklearn.svm import SVR\n",
    "from sklearn.metrics import r2_score, classification_report\n",
    "\n",
    "%matplotlib inline"
   ]
  },
  {
   "cell_type": "code",
   "execution_count": null,
   "id": "18deddcc",
   "metadata": {},
   "outputs": [],
   "source": [
    "df = pd.read_csv(\"bodyfat.csv\")"
   ]
  },
  {
   "cell_type": "code",
   "execution_count": 4,
   "id": "baa65959",
   "metadata": {},
   "outputs": [],
   "source": [
    "X = df[[\"Density\", \"Weight\", \"Chest\", \"Abdomen\", \"Hip\"]]\n",
    "y = df[\"BodyFat\"]"
   ]
  },
  {
   "cell_type": "code",
   "execution_count": 8,
   "id": "0ab2367f",
   "metadata": {},
   "outputs": [],
   "source": [
    "X_train, X_test, y_train, y_test = train_test_split(X, y, test_size=0.2, random_state=4242)"
   ]
  },
  {
   "cell_type": "markdown",
   "id": "3a116f8f",
   "metadata": {},
   "source": [
    "# Decision Tree"
   ]
  },
  {
   "cell_type": "code",
   "execution_count": 10,
   "id": "c2a7e1ee",
   "metadata": {},
   "outputs": [
    {
     "name": "stdout",
     "output_type": "stream",
     "text": [
      "Decision Tree:  0.9813308342739095\n"
     ]
    }
   ],
   "source": [
    "dtr = DecisionTreeRegressor()\n",
    "dtr.fit(X_train, y_train)\n",
    "y_pred = dtr.predict(X_test)\n",
    "print(\"Decision Tree: \", r2_score(y_test, y_pred))"
   ]
  },
  {
   "cell_type": "code",
   "execution_count": 20,
   "id": "f1fbcf65",
   "metadata": {},
   "outputs": [],
   "source": [
    "dtr_params = {\n",
    "    \"splitter\": [\"best\", \"random\"],\n",
    "    \"min_samples_split\": [2, 5, 10],\n",
    "    \"min_samples_leaf\": [2, 5, 10],\n",
    "    \"max_features\": [\"sqrt\"],\n",
    "    \"ccp_alpha\": [1, 2, 2.5, 5]\n",
    "}"
   ]
  },
  {
   "cell_type": "code",
   "execution_count": 21,
   "id": "e8e7bf68",
   "metadata": {},
   "outputs": [
    {
     "data": {
      "text/plain": [
       "{'ccp_alpha': 1,\n",
       " 'max_features': 'sqrt',\n",
       " 'min_samples_leaf': 10,\n",
       " 'min_samples_split': 10,\n",
       " 'splitter': 'best'}"
      ]
     },
     "execution_count": 21,
     "metadata": {},
     "output_type": "execute_result"
    }
   ],
   "source": [
    "dtr = DecisionTreeRegressor()\n",
    "dtr_cv_model = GridSearchCV(dtr, dtr_params, cv=10, n_jobs=-1).fit(X_train, y_train)\n",
    "dtr_cv_model.best_params_"
   ]
  },
  {
   "cell_type": "code",
   "execution_count": 23,
   "id": "6299b2eb",
   "metadata": {},
   "outputs": [
    {
     "name": "stdout",
     "output_type": "stream",
     "text": [
      "Decision Tree:  0.859586077770098\n"
     ]
    }
   ],
   "source": [
    "dtr_tuned = DecisionTreeRegressor(ccp_alpha=1, max_features=\"sqrt\", min_samples_leaf=10, min_samples_split=10, splitter=\"best\").fit(X_train, y_train)\n",
    "y_pred = dtr_tuned.predict(X_test)\n",
    "print(\"Decision Tree: \", r2_score(y_test, y_pred))"
   ]
  },
  {
   "cell_type": "markdown",
   "id": "a74fc72f",
   "metadata": {},
   "source": [
    "# Random Forest"
   ]
  },
  {
   "cell_type": "code",
   "execution_count": 13,
   "id": "c93bf715",
   "metadata": {},
   "outputs": [
    {
     "name": "stdout",
     "output_type": "stream",
     "text": [
      "Random Forest:  0.9762476270256676\n"
     ]
    }
   ],
   "source": [
    "rf = RandomForestRegressor()\n",
    "rf.fit(X_train, y_train)\n",
    "y_pred = rf.predict(X_test)\n",
    "print(\"Random Forest: \", r2_score(y_test, y_pred))"
   ]
  },
  {
   "cell_type": "code",
   "execution_count": 37,
   "id": "d588d5f5",
   "metadata": {},
   "outputs": [],
   "source": [
    "rf_params = {\n",
    "    \"n_estimators\": [100, 250, 500,],\n",
    "    \"max_depth\": [1, 15, 30],\n",
    "    \"min_samples_split\": [2, 5],\n",
    "    \"min_samples_leaf\": [2, 5],\n",
    "    \"max_features\": [\"sqrt\"],\n",
    "    \"ccp_alpha\": [1, 2, 2.5]\n",
    "}"
   ]
  },
  {
   "cell_type": "code",
   "execution_count": 38,
   "id": "30f237f8",
   "metadata": {},
   "outputs": [
    {
     "data": {
      "text/plain": [
       "{'ccp_alpha': 1,\n",
       " 'max_depth': 15,\n",
       " 'max_features': 'sqrt',\n",
       " 'min_samples_leaf': 2,\n",
       " 'min_samples_split': 5,\n",
       " 'n_estimators': 500}"
      ]
     },
     "execution_count": 38,
     "metadata": {},
     "output_type": "execute_result"
    }
   ],
   "source": [
    "rf = RandomForestRegressor()\n",
    "rf_cv_model = GridSearchCV(rf, rf_params, cv=10, n_jobs=-1).fit(X_train, y_train)\n",
    "rf_cv_model.best_params_"
   ]
  },
  {
   "cell_type": "code",
   "execution_count": 39,
   "id": "11206bbb",
   "metadata": {},
   "outputs": [
    {
     "name": "stdout",
     "output_type": "stream",
     "text": [
      "Random Forest:  0.8816160163239681\n"
     ]
    }
   ],
   "source": [
    "rf_tuned = RandomForestRegressor(ccp_alpha=1, max_depth=15, max_features=\"sqrt\", min_samples_leaf=2, min_samples_split=5, n_estimators=500).fit(X_train, y_train)\n",
    "y_pred = rf_tuned.predict(X_test)\n",
    "print(\"Random Forest: \", r2_score(y_test, y_pred))"
   ]
  },
  {
   "cell_type": "markdown",
   "id": "85c10559",
   "metadata": {},
   "source": [
    "# SVR"
   ]
  },
  {
   "cell_type": "code",
   "execution_count": 14,
   "id": "cdf53675",
   "metadata": {},
   "outputs": [
    {
     "name": "stdout",
     "output_type": "stream",
     "text": [
      "SVR:  0.353818358958947\n"
     ]
    }
   ],
   "source": [
    "svr = SVR()\n",
    "svr.fit(X_train, y_train)\n",
    "y_pred = svr.predict(X_test)\n",
    "print(\"SVR: \", r2_score(y_test, y_pred))"
   ]
  },
  {
   "cell_type": "code",
   "execution_count": 41,
   "id": "58dc4f82",
   "metadata": {},
   "outputs": [],
   "source": [
    "svr_params = {\n",
    "    \"C\": [0.25, 0.50, 0.75, 0.1],\n",
    "    \"tol\": [1e-10, 1e-5],\n",
    "    \"kernel\": [\"linear\", \"sigmoid\"],\n",
    "    \"max_iter\": [1, 100, 250]\n",
    "}"
   ]
  },
  {
   "cell_type": "code",
   "execution_count": 43,
   "id": "42501227",
   "metadata": {},
   "outputs": [
    {
     "name": "stderr",
     "output_type": "stream",
     "text": [
      "/Users/alperkaraca/anaconda3/envs/TF/lib/python3.8/site-packages/sklearn/svm/_base.py:299: ConvergenceWarning: Solver terminated early (max_iter=250).  Consider pre-processing your data with StandardScaler or MinMaxScaler.\n",
      "  warnings.warn(\n"
     ]
    },
    {
     "data": {
      "text/plain": [
       "{'C': 0.1, 'kernel': 'linear', 'max_iter': 250, 'tol': 1e-10}"
      ]
     },
     "execution_count": 43,
     "metadata": {},
     "output_type": "execute_result"
    }
   ],
   "source": [
    "svr = SVR()\n",
    "svr_cr_model = GridSearchCV(svr, svr_params, cv=10, n_jobs=-1).fit(X_train, y_train)\n",
    "svr_cr_model.best_params_"
   ]
  },
  {
   "cell_type": "code",
   "execution_count": 45,
   "id": "e6d10bc0",
   "metadata": {},
   "outputs": [
    {
     "name": "stdout",
     "output_type": "stream",
     "text": [
      "SVR:  0.7063420527711204\n"
     ]
    },
    {
     "name": "stderr",
     "output_type": "stream",
     "text": [
      "/Users/alperkaraca/anaconda3/envs/TF/lib/python3.8/site-packages/sklearn/svm/_base.py:299: ConvergenceWarning: Solver terminated early (max_iter=250).  Consider pre-processing your data with StandardScaler or MinMaxScaler.\n",
      "  warnings.warn(\n"
     ]
    }
   ],
   "source": [
    "svr_tuned = SVR(C=0.1, kernel=\"linear\", max_iter=250, tol=1e-10).fit(X_train, y_train)\n",
    "y_pred = svr_tuned.predict(X_test)\n",
    "print(\"SVR: \", r2_score(y_test, y_pred))"
   ]
  },
  {
   "cell_type": "code",
   "execution_count": 49,
   "id": "9a4ab37c",
   "metadata": {},
   "outputs": [],
   "source": [
    "pickle.dump(rf_tuned, open(\"RandomForest.pkl\", \"wb\"))"
   ]
  },
  {
   "cell_type": "code",
   "execution_count": null,
   "id": "532bdf58",
   "metadata": {},
   "outputs": [],
   "source": []
  }
 ],
 "metadata": {
  "kernelspec": {
   "display_name": "Python 3 (ipykernel)",
   "language": "python",
   "name": "python3"
  },
  "language_info": {
   "codemirror_mode": {
    "name": "ipython",
    "version": 3
   },
   "file_extension": ".py",
   "mimetype": "text/x-python",
   "name": "python",
   "nbconvert_exporter": "python",
   "pygments_lexer": "ipython3",
   "version": "3.8.16"
  }
 },
 "nbformat": 4,
 "nbformat_minor": 5
}
